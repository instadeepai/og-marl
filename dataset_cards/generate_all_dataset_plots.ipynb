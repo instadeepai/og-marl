{
 "cells": [
  {
   "cell_type": "markdown",
   "metadata": {},
   "source": [
    "# Generate all episode return distribution plots and save under vault_plots\n",
    "\n",
    "This notebook downloads all datasets and saves their episode return distribution histograms."
   ]
  },
  {
   "cell_type": "code",
   "execution_count": null,
   "metadata": {},
   "outputs": [],
   "source": [
    "from og_marl.vault_utils.download_vault import *\n",
    "from og_marl.vault_utils.analyse_vault import *\n",
    "import os"
   ]
  },
  {
   "cell_type": "markdown",
   "metadata": {},
   "source": [
    "## Download a vault and get to know the file structure\n",
    "### OG-MARL vault file structure"
   ]
  },
  {
   "cell_type": "code",
   "execution_count": null,
   "metadata": {},
   "outputs": [],
   "source": [
    "available_vaults = print_download_options()"
   ]
  },
  {
   "cell_type": "markdown",
   "metadata": {},
   "source": [
    "We can either choose a source-environment-task combination from those available above, or we can specify our source-environment-task combination and input our own url for downloading the (zipped) vault."
   ]
  },
  {
   "cell_type": "code",
   "execution_count": null,
   "metadata": {},
   "outputs": [],
   "source": [
    "\n",
    "for source in available_vaults.keys():\n",
    "    for env in available_vaults[source].keys():\n",
    "\n",
    "# source = \"og_marl\"\n",
    "# env = \"gymnasium_mamujoco\"\n",
    "\n",
    "        for task in available_vaults[source][env].keys():\n",
    "            \n",
    "            # download vault\n",
    "            rel_vault_location = download_and_unzip_vault(source,env,task)\n",
    "\n",
    "            # convert source-env-task naming convention to rel_dir-vault_name-vault_uids categories\n",
    "            vault_rel_dir = f\"vaults/{source}/{env}\"\n",
    "            vault_name = f\"{task}.vlt\" # a vault name contains only the file name which has the .vlt extension\n",
    "            vault_uids = get_available_uids(rel_vault_location)\n",
    "            print(vault_uids)\n",
    "\n",
    "            # specify and create relative directory to store the plots in\n",
    "            plots_rel_dir = f\"vault_plots/{source}/{env}\"\n",
    "            os.makedirs(f\"{plots_rel_dir}/{vault_name}\", exist_ok=True)\n",
    "\n",
    "            # describe_structure(vault_name=vault_name,vault_uids=vault_uids,rel_dir=vault_rel_dir)\n",
    "\n",
    "            describe_episode_returns(vault_name=vault_name,vault_uids=vault_uids,rel_dir=vault_rel_dir,save_hist=True,save_violin=True,plot_saving_rel_dir=plots_rel_dir,done_flags = (\"terminals\",\"truncations\"))\n",
    "            "
   ]
  }
 ],
 "metadata": {
  "kernelspec": {
   "display_name": "og-marl",
   "language": "python",
   "name": "python3"
  },
  "language_info": {
   "codemirror_mode": {
    "name": "ipython",
    "version": 3
   },
   "file_extension": ".py",
   "mimetype": "text/x-python",
   "name": "python",
   "nbconvert_exporter": "python",
   "pygments_lexer": "ipython3",
   "version": "3.9.19"
  }
 },
 "nbformat": 4,
 "nbformat_minor": 2
}
